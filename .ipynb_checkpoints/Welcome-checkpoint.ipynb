{
 "cells": [
  {
   "cell_type": "markdown",
   "id": "3d8ed418-e0cd-4431-ab46-b3c12cbaf9ef",
   "metadata": {
    "tags": []
   },
   "source": [
    "# 欢迎进入 VirtAI Notebook\n",
    "您可以在这里编辑代码和文档，在编辑代码前您需阅读本文了解文件目录的作用及权限，以免使用不当造成数据丢失。"
   ]
  },
  {
   "cell_type": "markdown",
   "id": "86eef411",
   "metadata": {
    "tags": []
   },
   "source": [
    "## 关于文件目录\n",
    "\n",
    "<br>除下述目录外，其它手动创建的内容都将在开发环境重启后丢失。"
   ]
  },
  {
   "cell_type": "markdown",
   "id": "c7fbf63e",
   "metadata": {
    "tags": []
   },
   "source": [
    "**code：**  /gemini/code 目录是您的代码上传后存放的目录，可通过环境变量 `$GEMINI_CODE` 快速访问该目录。  \n",
    "在开发环境中，仅该目录下的内容会被持久化保存，您可在该目录下执行增、删、改操作，  \n",
    "但不建议在该目录下存放大体量数据集，以免镜像过大，带来不良体验。  \n",
    "需注意，在离线训练中该目录仅有只读权限，强行写入会导致数据丢失。"
   ]
  },
  {
   "cell_type": "markdown",
   "id": "66da64df",
   "metadata": {
    "tags": []
   },
   "source": [
    "**data：** /gemini/data-1、/gemini/data-2、/gemini/data-3 是数据集挂载目录，  \n",
    "每个任务最多可挂载三个数据集即分别对应这三个目录，  \n",
    "您可以通过环境变量 `$GEMINI_DATA_IN1`、\n",
    "`$GEMINI_DATA_IN2`、\n",
    "`$GEMINI_DATA_IN3` 快速访问。  \n",
    "需注意，这些目录为只读目录，对其执行写入操作会导致数据丢失。  "
   ]
  },
  {
   "cell_type": "markdown",
   "id": "4a0a6a3d",
   "metadata": {
    "tags": []
   },
   "source": [
    "**pretrain:**  /gemini/pretrain、/gemini/pretrain2、/gemini/pretrain3 目录是预训练数据/模型的挂载目录，  \n",
    "您可以通过环境变量 `$GEMINI_PRETRAIN`、\n",
    "`$GEMINI_PRETRAIN2`、\n",
    "`$GEMINI_PRETRAIN3` 快速访问。  \n",
    "需注意，该目录为只读目录，对其执行写入会导致数据丢失。 "
   ]
  },
  {
   "cell_type": "markdown",
   "id": "3ea6d205-2a3d-4a29-af03-48185df57eb2",
   "metadata": {
    "tags": []
   },
   "source": [
    "**output：** /gemini/output 目录只能在训练任务中使用，用来存储训练输出的内容，如：训练结果、checkpoint、log 等，  \n",
    "设置训练结果存储于该目录下时可使用环境变量 `$GEMINI_DATA_OUT`，   \n",
    "训练完成后即可在项目的 “结果” 中查看训练输出的内容。  \n",
    "需注意，开发环境中不会挂载该目录，手动写入会导致数据丢失。"
   ]
  },
  {
   "cell_type": "code",
   "execution_count": null,
   "id": "2a051967-f6d4-4020-a863-8e16c0352d02",
   "metadata": {},
   "outputs": [],
   "source": [
    "# 试试这个经典示例\n",
    "print (\"hello VirtAI\")"
   ]
  },
  {
   "cell_type": "code",
   "execution_count": null,
   "id": "f554cb0c-d085-42ee-a58b-2cfaf803b873",
   "metadata": {},
   "outputs": [],
   "source": [
    "# 查看项目代码\n",
    "!ls /gemini/code\n",
    "!ls $GEMINI_CODE"
   ]
  },
  {
   "cell_type": "code",
   "execution_count": null,
   "id": "b8167ea6-d95c-499e-82a4-8d22762474ed",
   "metadata": {},
   "outputs": [],
   "source": [
    "# 查看挂载的数据集\n",
    "!ls /gemini/data-1\n",
    "!ls $GEMINI_DATA_IN1"
   ]
  },
  {
   "cell_type": "code",
   "execution_count": null,
   "id": "07832033-acd0-477f-8d9e-a0271a447d12",
   "metadata": {},
   "outputs": [],
   "source": [
    "# 查看挂载的预训练数据/模型\n",
    "!ls /gemini/pretrain\n",
    "!ls $GEMINI_PRETRAIN"
   ]
  }
 ],
 "metadata": {
  "kernelspec": {
   "display_name": "Python 3 (ipykernel)",
   "language": "python",
   "name": "python3"
  },
  "language_info": {
   "codemirror_mode": {
    "name": "ipython",
    "version": 3
   },
   "file_extension": ".py",
   "mimetype": "text/x-python",
   "name": "python",
   "nbconvert_exporter": "python",
   "pygments_lexer": "ipython3",
   "version": "3.9.12"
  },
  "vscode": {
   "interpreter": {
    "hash": "31f2aee4e71d21fbe5cf8b01ff0e069b9275f58929596ceb00d14d90e3e16cd6"
   }
  }
 },
 "nbformat": 4,
 "nbformat_minor": 5
}
